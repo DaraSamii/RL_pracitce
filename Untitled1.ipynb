{
 "cells": [
  {
   "cell_type": "code",
   "execution_count": 1,
   "metadata": {},
   "outputs": [],
   "source": [
    "import gym\n",
    "import numpy as np"
   ]
  },
  {
   "cell_type": "code",
   "execution_count": 8,
   "metadata": {},
   "outputs": [],
   "source": [
    "env = gym.make('Taxi-v3')\n",
    "state = env.reset()\n"
   ]
  },
  {
   "cell_type": "code",
   "execution_count": 9,
   "metadata": {},
   "outputs": [
    {
     "name": "stdout",
     "output_type": "stream",
     "text": [
      "282\n",
      "+---------+\n",
      "|\u001b[34;1mR\u001b[0m: | : :G|\n",
      "| : | : : |\n",
      "| : : : :\u001b[43m \u001b[0m|\n",
      "| | : | : |\n",
      "|\u001b[35mY\u001b[0m| : |B: |\n",
      "+---------+\n",
      "\n"
     ]
    }
   ],
   "source": [
    "print(state)\n",
    "env.render()"
   ]
  },
  {
   "cell_type": "code",
   "execution_count": 11,
   "metadata": {},
   "outputs": [
    {
     "name": "stdout",
     "output_type": "stream",
     "text": [
      "500\n",
      "6\n"
     ]
    }
   ],
   "source": [
    "n_states = env.observation_space.n\n",
    "n_actions =env.action_space.n\n",
    "print(n_states)\n",
    "print(n_actions)"
   ]
  },
  {
   "cell_type": "code",
   "execution_count": 2,
   "metadata": {},
   "outputs": [],
   "source": [
    "import pickle"
   ]
  },
  {
   "cell_type": "code",
   "execution_count": 4,
   "metadata": {},
   "outputs": [
    {
     "ename": "TypeError",
     "evalue": "a bytes-like object is required, not '_io.BufferedReader'",
     "output_type": "error",
     "traceback": [
      "\u001b[1;31m---------------------------------------------------------------------------\u001b[0m",
      "\u001b[1;31mTypeError\u001b[0m                                 Traceback (most recent call last)",
      "\u001b[1;32m<ipython-input-4-73fea921d9ef>\u001b[0m in \u001b[0;36m<module>\u001b[1;34m\u001b[0m\n\u001b[1;32m----> 1\u001b[1;33m \u001b[0mmem\u001b[0m \u001b[1;33m=\u001b[0m \u001b[0mpickle\u001b[0m\u001b[1;33m.\u001b[0m\u001b[0mloads\u001b[0m\u001b[1;33m(\u001b[0m\u001b[0mopen\u001b[0m\u001b[1;33m(\u001b[0m\u001b[1;34m'Memory'\u001b[0m\u001b[1;33m,\u001b[0m\u001b[1;34m'rb'\u001b[0m\u001b[1;33m)\u001b[0m\u001b[1;33m)\u001b[0m\u001b[1;33m\u001b[0m\u001b[1;33m\u001b[0m\u001b[0m\n\u001b[0m",
      "\u001b[1;31mTypeError\u001b[0m: a bytes-like object is required, not '_io.BufferedReader'"
     ]
    }
   ],
   "source": [
    "mem = pickle.loads(open('Memory','rb'))"
   ]
  },
  {
   "cell_type": "code",
   "execution_count": 26,
   "metadata": {},
   "outputs": [],
   "source": [
    "Q = np.zeros([n_states, n_actions])"
   ]
  },
  {
   "cell_type": "code",
   "execution_count": 27,
   "metadata": {},
   "outputs": [
    {
     "data": {
      "text/plain": [
       "(500, 6)"
      ]
     },
     "execution_count": 27,
     "metadata": {},
     "output_type": "execute_result"
    }
   ],
   "source": [
    "Q.shape"
   ]
  },
  {
   "cell_type": "code",
   "execution_count": 28,
   "metadata": {},
   "outputs": [],
   "source": [
    "Q_hist = np.zeros([n_states, n_actions,0])"
   ]
  },
  {
   "cell_type": "code",
   "execution_count": 29,
   "metadata": {},
   "outputs": [],
   "source": [
    "alpha = 0.617\n",
    "G = 0"
   ]
  },
  {
   "cell_type": "code",
   "execution_count": 37,
   "metadata": {},
   "outputs": [
    {
     "name": "stdout",
     "output_type": "stream",
     "text": [
      "Episode 100 Reward: 8\n",
      "Episode 200 Reward: 10\n",
      "Episode 300 Reward: 5\n",
      "Episode 400 Reward: 9\n",
      "Episode 500 Reward: 9\n",
      "Episode 600 Reward: 7\n",
      "Episode 700 Reward: 9\n",
      "Episode 800 Reward: 6\n",
      "Episode 900 Reward: 4\n",
      "Episode 1000 Reward: 12\n",
      "Episode 1100 Reward: 14\n",
      "Episode 1200 Reward: 9\n",
      "Episode 1300 Reward: 6\n",
      "Episode 1400 Reward: 5\n",
      "Episode 1500 Reward: 8\n",
      "Episode 1600 Reward: 7\n",
      "Episode 1700 Reward: 10\n",
      "Episode 1800 Reward: 4\n",
      "Episode 1900 Reward: 14\n",
      "Episode 2000 Reward: 13\n",
      "Episode 2100 Reward: 10\n",
      "Episode 2200 Reward: 13\n",
      "Episode 2300 Reward: 7\n",
      "Episode 2400 Reward: 5\n",
      "Episode 2500 Reward: 4\n",
      "Episode 2600 Reward: 9\n",
      "Episode 2700 Reward: 7\n",
      "Episode 2800 Reward: 6\n",
      "Episode 2900 Reward: 9\n",
      "Episode 3000 Reward: 9\n",
      "Episode 3100 Reward: 5\n",
      "Episode 3200 Reward: 10\n",
      "Episode 3300 Reward: 4\n",
      "Episode 3400 Reward: 5\n",
      "Episode 3500 Reward: 5\n",
      "Episode 3600 Reward: 11\n",
      "Episode 3700 Reward: 10\n",
      "Episode 3800 Reward: 6\n",
      "Episode 3900 Reward: 9\n",
      "Episode 4000 Reward: 10\n",
      "Episode 4100 Reward: 10\n",
      "Episode 4200 Reward: 8\n",
      "Episode 4300 Reward: 5\n",
      "Episode 4400 Reward: 13\n",
      "Episode 4500 Reward: 15\n",
      "Episode 4600 Reward: 6\n",
      "Episode 4700 Reward: 5\n",
      "Episode 4800 Reward: 7\n",
      "Episode 4900 Reward: 9\n",
      "Episode 5000 Reward: 7\n",
      "Episode 5100 Reward: 10\n",
      "Episode 5200 Reward: 8\n",
      "Episode 5300 Reward: 3\n",
      "Episode 5400 Reward: 9\n",
      "Episode 5500 Reward: 7\n",
      "Episode 5600 Reward: 5\n",
      "Episode 5700 Reward: 5\n",
      "Episode 5800 Reward: 6\n",
      "Episode 5900 Reward: 5\n",
      "Episode 6000 Reward: 4\n",
      "Episode 6100 Reward: 4\n",
      "Episode 6200 Reward: 6\n",
      "Episode 6300 Reward: 12\n",
      "Episode 6400 Reward: 9\n",
      "Episode 6500 Reward: 9\n",
      "Episode 6600 Reward: 8\n",
      "Episode 6700 Reward: 9\n",
      "Episode 6800 Reward: 5\n",
      "Episode 6900 Reward: 4\n",
      "Episode 7000 Reward: 7\n",
      "Episode 7100 Reward: 6\n",
      "Episode 7200 Reward: 8\n",
      "Episode 7300 Reward: 10\n",
      "Episode 7400 Reward: 13\n",
      "Episode 7500 Reward: 3\n",
      "Episode 7600 Reward: 11\n",
      "Episode 7700 Reward: 8\n",
      "Episode 7800 Reward: 7\n",
      "Episode 7900 Reward: 7\n",
      "Episode 8000 Reward: 7\n",
      "Episode 8100 Reward: 3\n",
      "Episode 8200 Reward: 8\n",
      "Episode 8300 Reward: 9\n",
      "Episode 8400 Reward: 3\n",
      "Episode 8500 Reward: 6\n",
      "Episode 8600 Reward: 10\n",
      "Episode 8700 Reward: 5\n",
      "Episode 8800 Reward: 10\n",
      "Episode 8900 Reward: 13\n",
      "Episode 9000 Reward: 12\n",
      "Episode 9100 Reward: 7\n",
      "Episode 9200 Reward: 9\n",
      "Episode 9300 Reward: 9\n",
      "Episode 9400 Reward: 14\n",
      "Episode 9500 Reward: 9\n",
      "Episode 9600 Reward: 8\n",
      "Episode 9700 Reward: 5\n",
      "Episode 9800 Reward: 5\n",
      "Episode 9900 Reward: 11\n",
      "Episode 10000 Reward: 5\n"
     ]
    }
   ],
   "source": [
    "rewardtracker = []\n",
    "episodes = 10000\n",
    "\n",
    "\n",
    "for episode in range(1, episodes+1):\n",
    "    done = False\n",
    "    G, reward = 0,0\n",
    "    state = env.reset()\n",
    "    firststate = state\n",
    "    #print(\"Init state : {}\".format(state))\n",
    "    while reward != 20:\n",
    "        action = np.argmax(Q[state])\n",
    "        state2, reward, done, info = env.step(action)\n",
    "        Q[state, action] += alpha*(reward + np.max(Q[state2]) - Q[state, action])\n",
    "        G += reward\n",
    "        state = state2\n",
    "\n",
    "    rewardtracker.append(G)\n",
    "        \n",
    "    if episode % 100 == 0:\n",
    "        print(\"Episode {} Reward: {}\".format(episode, G))\n",
    "        \n",
    "#finalstate = state\n",
    "#print('final state = {}'.format(finalstate))"
   ]
  },
  {
   "cell_type": "code",
   "execution_count": 42,
   "metadata": {},
   "outputs": [
    {
     "name": "stdout",
     "output_type": "stream",
     "text": [
      "+---------+\n",
      "|R: | : :G|\n",
      "| : |\u001b[43m \u001b[0m: : |\n",
      "| : : : : |\n",
      "| | : | : |\n",
      "|\u001b[35mY\u001b[0m| : |\u001b[34;1mB\u001b[0m: |\n",
      "+---------+\n",
      "  (South)\n",
      "+---------+\n",
      "|R: | : :G|\n",
      "| : | : : |\n",
      "| : :\u001b[43m \u001b[0m: : |\n",
      "| | : | : |\n",
      "|\u001b[35mY\u001b[0m| : |\u001b[34;1mB\u001b[0m: |\n",
      "+---------+\n",
      "  (South)\n",
      "+---------+\n",
      "|R: | : :G|\n",
      "| : | : : |\n",
      "| : : :\u001b[43m \u001b[0m: |\n",
      "| | : | : |\n",
      "|\u001b[35mY\u001b[0m| : |\u001b[34;1mB\u001b[0m: |\n",
      "+---------+\n",
      "  (East)\n",
      "+---------+\n",
      "|R: | : :G|\n",
      "| : | : : |\n",
      "| : : : : |\n",
      "| | : |\u001b[43m \u001b[0m: |\n",
      "|\u001b[35mY\u001b[0m| : |\u001b[34;1mB\u001b[0m: |\n",
      "+---------+\n",
      "  (South)\n",
      "+---------+\n",
      "|R: | : :G|\n",
      "| : | : : |\n",
      "| : : : : |\n",
      "| | : | : |\n",
      "|\u001b[35mY\u001b[0m| : |\u001b[34;1m\u001b[43mB\u001b[0m\u001b[0m: |\n",
      "+---------+\n",
      "  (South)\n",
      "+---------+\n",
      "|R: | : :G|\n",
      "| : | : : |\n",
      "| : : : : |\n",
      "| | : | : |\n",
      "|\u001b[35mY\u001b[0m| : |\u001b[42mB\u001b[0m: |\n",
      "+---------+\n",
      "  (Pickup)\n",
      "+---------+\n",
      "|R: | : :G|\n",
      "| : | : : |\n",
      "| : : : : |\n",
      "| | : |\u001b[42m_\u001b[0m: |\n",
      "|\u001b[35mY\u001b[0m| : |B: |\n",
      "+---------+\n",
      "  (North)\n",
      "+---------+\n",
      "|R: | : :G|\n",
      "| : | : : |\n",
      "| : : :\u001b[42m_\u001b[0m: |\n",
      "| | : | : |\n",
      "|\u001b[35mY\u001b[0m| : |B: |\n",
      "+---------+\n",
      "  (North)\n",
      "+---------+\n",
      "|R: | : :G|\n",
      "| : | : : |\n",
      "| : :\u001b[42m_\u001b[0m: : |\n",
      "| | : | : |\n",
      "|\u001b[35mY\u001b[0m| : |B: |\n",
      "+---------+\n",
      "  (West)\n",
      "+---------+\n",
      "|R: | : :G|\n",
      "| : | : : |\n",
      "| :\u001b[42m_\u001b[0m: : : |\n",
      "| | : | : |\n",
      "|\u001b[35mY\u001b[0m| : |B: |\n",
      "+---------+\n",
      "  (West)\n",
      "+---------+\n",
      "|R: | : :G|\n",
      "| : | : : |\n",
      "|\u001b[42m_\u001b[0m: : : : |\n",
      "| | : | : |\n",
      "|\u001b[35mY\u001b[0m| : |B: |\n",
      "+---------+\n",
      "  (West)\n",
      "+---------+\n",
      "|R: | : :G|\n",
      "| : | : : |\n",
      "| : : : : |\n",
      "|\u001b[42m_\u001b[0m| : | : |\n",
      "|\u001b[35mY\u001b[0m| : |B: |\n",
      "+---------+\n",
      "  (South)\n",
      "+---------+\n",
      "|R: | : :G|\n",
      "| : | : : |\n",
      "| : : : : |\n",
      "| | : | : |\n",
      "|\u001b[35m\u001b[42mY\u001b[0m\u001b[0m| : |B: |\n",
      "+---------+\n",
      "  (South)\n",
      "+---------+\n",
      "|R: | : :G|\n",
      "| : | : : |\n",
      "| : : : : |\n",
      "| | : | : |\n",
      "|\u001b[35m\u001b[34;1m\u001b[43mY\u001b[0m\u001b[0m\u001b[0m| : |B: |\n",
      "+---------+\n",
      "  (Dropoff)\n"
     ]
    }
   ],
   "source": [
    "state = env.reset()\n",
    "done = None\n",
    "\n",
    "while done != True:\n",
    "    action = np.argmax(Q[state])\n",
    "    state, reward, done,info = env.step(action)\n",
    "    env.render()"
   ]
  },
  {
   "cell_type": "code",
   "execution_count": null,
   "metadata": {},
   "outputs": [],
   "source": []
  }
 ],
 "metadata": {
  "kernelspec": {
   "display_name": "Python 3",
   "language": "python",
   "name": "python3"
  },
  "language_info": {
   "codemirror_mode": {
    "name": "ipython",
    "version": 3
   },
   "file_extension": ".py",
   "mimetype": "text/x-python",
   "name": "python",
   "nbconvert_exporter": "python",
   "pygments_lexer": "ipython3",
   "version": "3.8.3"
  }
 },
 "nbformat": 4,
 "nbformat_minor": 4
}
